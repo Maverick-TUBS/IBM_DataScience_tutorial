{
 "cells": [
  {
   "cell_type": "markdown",
   "id": "2f284253-14ed-4be3-a615-19b2a7ca71f4",
   "metadata": {
    "tags": []
   },
   "source": [
    "# Data Science Tools and Ecosystem"
   ]
  },
  {
   "cell_type": "markdown",
   "id": "8a753107-e8c6-4f7a-97b5-38a57e91463d",
   "metadata": {},
   "source": [
    "In this notebook, Data Science Tools and Ecosystem are summarized."
   ]
  },
  {
   "cell_type": "markdown",
   "id": "3f387af4-e2ed-4e07-bb53-a64b7bd989f6",
   "metadata": {},
   "source": [
    "Some of the popular languages that Data Scientists use are:\n",
    "1. Python\n",
    "2. R\n",
    "3. Java"
   ]
  },
  {
   "cell_type": "markdown",
   "id": "31735ebd-546e-47ed-8861-1da38f97e9d1",
   "metadata": {},
   "source": [
    "Some of the commonly used libraries used by Data Scientists include:\n",
    "1. Pandas\n",
    "2. Numpy\n",
    "3. Matplotlib"
   ]
  },
  {
   "cell_type": "markdown",
   "id": "f07eb1bf-7b53-41e6-b016-699f7142b90c",
   "metadata": {
    "tags": []
   },
   "source": [
    "Data science tools |\n",
    "---|\n",
    "Jupyterlab |\n",
    "R Studio |\n",
    "Visual studio|\n"
   ]
  },
  {
   "cell_type": "markdown",
   "id": "b8bf7437-ce57-4dbb-a9e0-9311b980eee9",
   "metadata": {},
   "source": [
    "### Below are a few examples of evaluating arithmetic expressions in Python:\n"
   ]
  },
  {
   "cell_type": "code",
   "execution_count": 3,
   "id": "f8efbbeb-c289-4e72-b1ef-12047f2cad42",
   "metadata": {
    "tags": []
   },
   "outputs": [
    {
     "data": {
      "text/plain": [
       "17"
      ]
     },
     "execution_count": 3,
     "metadata": {},
     "output_type": "execute_result"
    }
   ],
   "source": [
    "#  This a simple arithmetic expression to mutiply then add integers\n",
    "(3*4)+5"
   ]
  },
  {
   "cell_type": "code",
   "execution_count": 4,
   "id": "5ee633b2-0cd1-4e88-9baa-aea9ae0c7888",
   "metadata": {
    "tags": []
   },
   "outputs": [
    {
     "data": {
      "text/plain": [
       "3.3333333333333335"
      ]
     },
     "execution_count": 4,
     "metadata": {},
     "output_type": "execute_result"
    }
   ],
   "source": [
    "# This will convert 200 minutes to hours by diving by 60\n",
    "200 / 60"
   ]
  },
  {
   "cell_type": "markdown",
   "id": "9f46b276-9165-46e7-a8f2-6f5b4b7240de",
   "metadata": {},
   "source": [
    "**Objectives:**\n",
    "- List popular languages in Data science\n",
    "- List development environments for data science\n",
    "- List data science related libraries in Python"
   ]
  },
  {
   "cell_type": "markdown",
   "id": "e3c30f32-e834-4ebf-825c-de4a4fb97218",
   "metadata": {},
   "source": [
    "## Author\n",
    "Sina Safazadeh"
   ]
  },
  {
   "cell_type": "code",
   "execution_count": null,
   "id": "5d041e3f-2606-4616-8e4e-78b6a0cd6068",
   "metadata": {},
   "outputs": [],
   "source": []
  }
 ],
 "metadata": {
  "kernelspec": {
   "display_name": "Python",
   "language": "python",
   "name": "conda-env-python-py"
  },
  "language_info": {
   "codemirror_mode": {
    "name": "ipython",
    "version": 3
   },
   "file_extension": ".py",
   "mimetype": "text/x-python",
   "name": "python",
   "nbconvert_exporter": "python",
   "pygments_lexer": "ipython3",
   "version": "3.7.12"
  }
 },
 "nbformat": 4,
 "nbformat_minor": 5
}
